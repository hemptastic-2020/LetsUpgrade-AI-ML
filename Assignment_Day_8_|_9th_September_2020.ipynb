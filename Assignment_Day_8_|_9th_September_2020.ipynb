{
  "nbformat": 4,
  "nbformat_minor": 0,
  "metadata": {
    "colab": {
      "name": "Assignment Day 8 | 9th September 2020.ipynb",
      "provenance": [],
      "authorship_tag": "ABX9TyNbgBijyh+qIXlkwW7QxKCs"
    },
    "kernelspec": {
      "name": "python3",
      "display_name": "Python 3"
    }
  },
  "cells": [
    {
      "cell_type": "markdown",
      "metadata": {
        "id": "K9pixEA_8kmH",
        "colab_type": "text"
      },
      "source": [
        "Question 1: Recreate “NB 21 map, filter, lambda.ipynb” to try different variations or perform different calculations from the ones that are in the NB.\n"
      ]
    },
    {
      "cell_type": "code",
      "metadata": {
        "id": "SNw1LysO8llA",
        "colab_type": "code",
        "colab": {
          "base_uri": "https://localhost:8080/",
          "height": 134
        },
        "outputId": "d45ae195-9ee2-408f-d329-1f9cc37e1ddb"
      },
      "source": [
        "def cube(y): \n",
        "    return y*y*y; \n",
        "  \n",
        "g = lambda x: x*x*x \n",
        "print(g(7)) \n",
        "  \n",
        "print(cube(5)) \n",
        "\n",
        "li = [5, 7, 22, 97, 54, 62, 77, 23, 73, 61] \n",
        "final_list = list(filter(lambda x: (x%2 != 0) , li)) \n",
        "print(final_list) \n",
        "\n",
        "li = [5, 7, 22, 97, 54, 62, 77, 23, 73, 61] \n",
        "final_list = list(map(lambda x: x*2 , li)) \n",
        "print(final_list) \n",
        "\n",
        "from functools import reduce\n",
        "li = [5, 8, 10, 20, 50, 100] \n",
        "sum = reduce((lambda x, y: x + y), li) \n",
        "print (sum) \n",
        "\n",
        "def myfunc(a, b):\n",
        "  return a + b\n",
        "\n",
        "x = map(myfunc, ('apple', 'banana', 'cherry'), ('orange', 'lemon', 'pineapple'))\n",
        "\n",
        "print(x)\n",
        "print(list(x))\n",
        "\n"
      ],
      "execution_count": 9,
      "outputs": [
        {
          "output_type": "stream",
          "text": [
            "343\n",
            "125\n",
            "[5, 7, 97, 77, 23, 73, 61]\n",
            "[10, 14, 44, 194, 108, 124, 154, 46, 146, 122]\n",
            "193\n",
            "<map object at 0x7f9c0d4f41d0>\n",
            "['appleorange', 'bananalemon', 'cherrypineapple']\n"
          ],
          "name": "stdout"
        }
      ]
    },
    {
      "cell_type": "markdown",
      "metadata": {
        "id": "gq2ePQIf8mBV",
        "colab_type": "text"
      },
      "source": [
        "Question 2: Recreate your own Python NB for “Classes and Objects” from the pdf provided namely “Classes&Objects.pdf”"
      ]
    },
    {
      "cell_type": "code",
      "metadata": {
        "id": "IXisVGAe8ptX",
        "colab_type": "code",
        "colab": {
          "base_uri": "https://localhost:8080/",
          "height": 67
        },
        "outputId": "76e30e46-0418-4d69-8e52-9d9e0f7be2e4"
      },
      "source": [
        "class Employee:\n",
        "   'Common base class for all employees'\n",
        "   empCount = 0\n",
        "\n",
        "   def __init__(self, name, salary):\n",
        "      self.name = name\n",
        "      self.salary = salary\n",
        "      Employee.empCount += 1\n",
        "   \n",
        "   def displayCount(self):\n",
        "     print (\"Total Employee %d\" % Employee.empCount)\n",
        "\n",
        "   def displayEmployee(self):\n",
        "      print (\"Name : \", self.name,  \", Salary: \", self.salary)\n",
        "\n",
        "emp1 = Employee(\"Zara\", 2000)\n",
        "emp2 = Employee(\"Manni\", 5000)\n",
        "emp1.displayEmployee()\n",
        "emp2.displayEmployee()\n",
        "print (\"Total Employee %d\" % Employee.empCount)\n",
        "\n",
        "emp1.salary = 7000  \n",
        "emp1.name = 'xyz'  \n",
        "del emp1.salary  \n",
        "\n",
        "hasattr(emp1, 'salary')    \n",
        "getattr(emp2, 'salary')    \n",
        "setattr(emp1, 'salary', 7000) \n",
        "delattr(emp1, 'salary')    \n",
        "\n",
        "\n",
        "\n"
      ],
      "execution_count": 4,
      "outputs": [
        {
          "output_type": "stream",
          "text": [
            "Name :  Zara , Salary:  2000\n",
            "Name :  Manni , Salary:  5000\n",
            "Total Employee 2\n"
          ],
          "name": "stdout"
        }
      ]
    },
    {
      "cell_type": "code",
      "metadata": {
        "id": "JG47kTGre-zH",
        "colab_type": "code",
        "colab": {
          "base_uri": "https://localhost:8080/",
          "height": 121
        },
        "outputId": "0d2cc580-9bdf-4893-b783-962223080387"
      },
      "source": [
        "class Employee:\n",
        "   'Common base class for all employees'\n",
        "   empCount = 0\n",
        "\n",
        "   def __init__(self, name, salary):\n",
        "      self.name = name\n",
        "      self.salary = salary\n",
        "      Employee.empCount += 1\n",
        "   \n",
        "   def displayCount(self):\n",
        "     print (\"Total Employee %d\" % Employee.empCount)\n",
        "\n",
        "   def displayEmployee(self):\n",
        "      print (\"Name : \", self.name,  \", Salary: \", self.salary)\n",
        "\n",
        "emp1 = Employee(\"Zara\", 2000)\n",
        "emp2 = Employee(\"Manni\", 5000)\n",
        "print (\"Employee.__doc__:\", Employee.__doc__)\n",
        "print (\"Employee.__name__:\", Employee.__name__)\n",
        "print (\"Employee.__module__:\", Employee.__module__)\n",
        "print (\"Employee.__bases__:\", Employee.__bases__)\n",
        "print (\"Employee.__dict__:\", Employee.__dict__ )"
      ],
      "execution_count": 5,
      "outputs": [
        {
          "output_type": "stream",
          "text": [
            "Employee.__doc__: Common base class for all employees\n",
            "Employee.__name__: Employee\n",
            "Employee.__module__: __main__\n",
            "Employee.__bases__: (<class 'object'>,)\n",
            "Employee.__dict__: {'__module__': '__main__', '__doc__': 'Common base class for all employees', 'empCount': 2, '__init__': <function Employee.__init__ at 0x7f9c0d541ae8>, 'displayCount': <function Employee.displayCount at 0x7f9c0d541b70>, 'displayEmployee': <function Employee.displayEmployee at 0x7f9c0d541bf8>, '__dict__': <attribute '__dict__' of 'Employee' objects>, '__weakref__': <attribute '__weakref__' of 'Employee' objects>}\n"
          ],
          "name": "stdout"
        }
      ]
    },
    {
      "cell_type": "code",
      "metadata": {
        "id": "0C8r2AvgfF_a",
        "colab_type": "code",
        "colab": {
          "base_uri": "https://localhost:8080/",
          "height": 50
        },
        "outputId": "3ae30964-a03a-4a6d-fdcc-8a8a5a05068e"
      },
      "source": [
        "class Point:\n",
        "   def __init__( self, x=0, y=0):\n",
        "      self.x = x\n",
        "      self.y = y\n",
        "   def __del__(self):\n",
        "      class_name = self.__class__.__name__\n",
        "      print (class_name, \"destroyed\")\n",
        "\n",
        "pt1 = Point()\n",
        "pt2 = pt1\n",
        "pt3 = pt1\n",
        "print (id(pt1), id(pt2), id(pt3))   # prints the ids of the obejcts\n",
        "del pt1\n",
        "del pt2\n",
        "del pt3"
      ],
      "execution_count": 7,
      "outputs": [
        {
          "output_type": "stream",
          "text": [
            "140308214790296 140308214790296 140308214790296\n",
            "Point destroyed\n"
          ],
          "name": "stdout"
        }
      ]
    },
    {
      "cell_type": "code",
      "metadata": {
        "id": "bfj-N1rQgXm9",
        "colab_type": "code",
        "colab": {
          "base_uri": "https://localhost:8080/",
          "height": 34
        },
        "outputId": "cd441665-f5bf-486f-ce34-007bb26e6e9a"
      },
      "source": [
        "class Vector:\n",
        "   def __init__(self, a, b):\n",
        "      self.a = a\n",
        "      self.b = b\n",
        "\n",
        "   def __str__(self):\n",
        "      return 'Vector (%d, %d)' % (self.a, self.b)\n",
        "   \n",
        "   def __add__(self,other):\n",
        "      return Vector(self.a + other.a, self.b + other.b)\n",
        "\n",
        "v1 = Vector(2,10)\n",
        "v2 = Vector(5,-2)\n",
        "print (v1 + v2)"
      ],
      "execution_count": 6,
      "outputs": [
        {
          "output_type": "stream",
          "text": [
            "Vector (7, 8)\n"
          ],
          "name": "stdout"
        }
      ]
    },
    {
      "cell_type": "code",
      "metadata": {
        "id": "GJBI7nZ_gYuL",
        "colab_type": "code",
        "colab": {
          "base_uri": "https://localhost:8080/",
          "height": 229
        },
        "outputId": "8ec2c56e-828b-4ca5-ba01-22f454fe846a"
      },
      "source": [
        "class JustCounter:\n",
        "   __secretCount = 0\n",
        "  \n",
        "   def count(self):\n",
        "      self.__secretCount += 1\n",
        "      print (self.__secretCount)\n",
        "\n",
        "counter = JustCounter()\n",
        "counter.count()\n",
        "counter.count()\n",
        "print (counter.__secretCount)"
      ],
      "execution_count": 8,
      "outputs": [
        {
          "output_type": "stream",
          "text": [
            "1\n",
            "2\n"
          ],
          "name": "stdout"
        },
        {
          "output_type": "error",
          "ename": "AttributeError",
          "evalue": "ignored",
          "traceback": [
            "\u001b[0;31m---------------------------------------------------------------------------\u001b[0m",
            "\u001b[0;31mAttributeError\u001b[0m                            Traceback (most recent call last)",
            "\u001b[0;32m<ipython-input-8-e72fb3845cdd>\u001b[0m in \u001b[0;36m<module>\u001b[0;34m()\u001b[0m\n\u001b[1;32m      9\u001b[0m \u001b[0mcounter\u001b[0m\u001b[0;34m.\u001b[0m\u001b[0mcount\u001b[0m\u001b[0;34m(\u001b[0m\u001b[0;34m)\u001b[0m\u001b[0;34m\u001b[0m\u001b[0;34m\u001b[0m\u001b[0m\n\u001b[1;32m     10\u001b[0m \u001b[0mcounter\u001b[0m\u001b[0;34m.\u001b[0m\u001b[0mcount\u001b[0m\u001b[0;34m(\u001b[0m\u001b[0;34m)\u001b[0m\u001b[0;34m\u001b[0m\u001b[0;34m\u001b[0m\u001b[0m\n\u001b[0;32m---> 11\u001b[0;31m \u001b[0mprint\u001b[0m \u001b[0;34m(\u001b[0m\u001b[0mcounter\u001b[0m\u001b[0;34m.\u001b[0m\u001b[0m__secretCount\u001b[0m\u001b[0;34m)\u001b[0m\u001b[0;34m\u001b[0m\u001b[0;34m\u001b[0m\u001b[0m\n\u001b[0m",
            "\u001b[0;31mAttributeError\u001b[0m: 'JustCounter' object has no attribute '__secretCount'"
          ]
        }
      ]
    }
  ]
}