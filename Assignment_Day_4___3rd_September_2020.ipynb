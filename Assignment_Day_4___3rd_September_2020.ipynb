{
  "nbformat": 4,
  "nbformat_minor": 0,
  "metadata": {
    "colab": {
      "name": "Assignment Day 4 | 3rd September 2020.ipynb",
      "provenance": []
    },
    "kernelspec": {
      "name": "python3",
      "display_name": "Python 3"
    }
  },
  "cells": [
    {
      "cell_type": "markdown",
      "metadata": {
        "id": "JPNil2d2LMxf",
        "colab_type": "text"
      },
      "source": [
        "Question 1:\n",
        "Research on whether addition, subtraction, multiplication, division, floor division, and modulo operations be performed on complex numbers. Based on your study, implement a Python program to demonstrate these operations.\n",
        "\n",
        "Ans- Floor and modulus operators (// and % respectively) are not allowed to be used on complex number in Python 3.x. However, these operations are defined for complex numbers in Python 2.7.x\n",
        "\n"
      ]
    },
    {
      "cell_type": "code",
      "metadata": {
        "id": "RVpa2kReLd06",
        "colab_type": "code",
        "colab": {
          "base_uri": "https://localhost:8080/",
          "height": 84
        },
        "outputId": "f16486cc-0fe1-408c-cdec-a87e1603c145"
      },
      "source": [
        "print(\"Addition of two complex numbers : \",(10+16j)+(4-7j))\n",
        "print(\"Subtraction of two complex numbers : \",(10+16j)-(4-7j))\n",
        "print(\"Multiplication of two complex numbers : \",(10+16j)*(4-7j))\n",
        "print(\"Division of two complex numbers : \",(10+16j)/(4-7j))"
      ],
      "execution_count": 1,
      "outputs": [
        {
          "output_type": "stream",
          "text": [
            "Addition of two complex numbers :  (14+9j)\n",
            "Subtraction of two complex numbers :  (6+23j)\n",
            "Multiplication of two complex numbers :  (152-6j)\n",
            "Division of two complex numbers :  (-1.107692307692308+2.0615384615384618j)\n"
          ],
          "name": "stdout"
        }
      ]
    },
    {
      "cell_type": "markdown",
      "metadata": {
        "id": "WwU1O0gXMRQH",
        "colab_type": "text"
      },
      "source": [
        "Question 2:\n",
        "Research on range() functions and its parameters. Create a markdown cell and write in your own words (no copy-paste from google please) what you understand about it. Implement a small program of your choice on the same.\n",
        "\n",
        "Ans- range() allows user to generate a series of numbers within a given range. Depending on how many arguments user is passing to the function, user can decide where that series of numbers will begin and end as well as how big the difference will be between one number. There are three ways you can call range() :\n",
        "\n",
        "* range(stop) takes one argument.\n",
        "* range(start, stop) takes two arguments.\n",
        "* range(start, stop, step) takes three arguments.\n",
        "\n",
        "\n",
        "* start: integer starting from which the sequence of integers is to be returned\n",
        "* stop: integer before which the sequence of integers is to be returned. The range of integers end at stop – 1.\n",
        "* step: integer value which determines the increment between each integer in the sequence\n",
        "\n",
        "\n",
        "\n",
        "\n",
        "\n",
        "\n",
        "\n",
        "\n"
      ]
    },
    {
      "cell_type": "code",
      "metadata": {
        "id": "jvFCeB4iOhdV",
        "colab_type": "code",
        "colab": {
          "base_uri": "https://localhost:8080/",
          "height": 50
        },
        "outputId": "d2c45118-56e7-47aa-d79b-dec7913c56e4"
      },
      "source": [
        "for i in range(204, 999, 56): \n",
        "    print(i, end =\" \") \n",
        "print()\n",
        "\n",
        "for i in range(564, -78, -34): \n",
        "    print(i, end =\" \") "
      ],
      "execution_count": 2,
      "outputs": [
        {
          "output_type": "stream",
          "text": [
            "204 260 316 372 428 484 540 596 652 708 764 820 876 932 988 \n",
            "564 530 496 462 428 394 360 326 292 258 224 190 156 122 88 54 20 -14 -48 "
          ],
          "name": "stdout"
        }
      ]
    },
    {
      "cell_type": "markdown",
      "metadata": {
        "id": "_4p2ZD0sPMwa",
        "colab_type": "text"
      },
      "source": [
        "Question 3:\n",
        "Consider two numbers. Perform their subtraction and if the result of subtraction is greater than 25, print\n",
        "their multiplication result else print their division result.\n"
      ]
    },
    {
      "cell_type": "code",
      "metadata": {
        "id": "M9OC3hG4Pnbx",
        "colab_type": "code",
        "colab": {
          "base_uri": "https://localhost:8080/",
          "height": 50
        },
        "outputId": "df350ff9-8cdb-4707-f962-95fe5a65c400"
      },
      "source": [
        "a,b = map(int,input().split())\n",
        "if (abs(a-b) > 25):\n",
        "  print(a*b)\n",
        "else:\n",
        "  print(a/b)"
      ],
      "execution_count": 3,
      "outputs": [
        {
          "output_type": "stream",
          "text": [
            "45 25\n",
            "1.8\n"
          ],
          "name": "stdout"
        }
      ]
    },
    {
      "cell_type": "markdown",
      "metadata": {
        "id": "wBPE6XxlPn7c",
        "colab_type": "text"
      },
      "source": [
        "Question 4:\n",
        "Consider a list of 10 elements of integer values. If the number in the list is divisible by 2, print the result as \"square of that number minus 2\"."
      ]
    },
    {
      "cell_type": "code",
      "metadata": {
        "id": "_1gI6xoQPqbL",
        "colab_type": "code",
        "colab": {
          "base_uri": "https://localhost:8080/",
          "height": 202
        },
        "outputId": "33387d3a-37dd-468b-ced1-59ef5820b45d"
      },
      "source": [
        "a = []\n",
        "a = list(map(int,input(\"Enter the numbers : \").strip().split()))[:10]\n",
        "i=0\n",
        "for i in range(0, 10): \n",
        "    if ((a[i]%2) == 0):\n",
        "      print(a[i]**2 - 2)\n",
        "\n",
        "    "
      ],
      "execution_count": 14,
      "outputs": [
        {
          "output_type": "stream",
          "text": [
            "Enter the numbers : 204 260 316 372 428 484 540 596 652 708\n",
            "41614\n",
            "67598\n",
            "99854\n",
            "138382\n",
            "183182\n",
            "234254\n",
            "291598\n",
            "355214\n",
            "425102\n",
            "501262\n"
          ],
          "name": "stdout"
        }
      ]
    },
    {
      "cell_type": "markdown",
      "metadata": {
        "id": "SBCqJMtiPrS3",
        "colab_type": "text"
      },
      "source": [
        "Question 5: Consider a list of 10 elements. Print all the elements in the list which are greater than 7 when that number is divided 2."
      ]
    },
    {
      "cell_type": "code",
      "metadata": {
        "id": "C8IZCXNUPySS",
        "colab_type": "code",
        "colab": {
          "base_uri": "https://localhost:8080/",
          "height": 118
        },
        "outputId": "084eee47-e6d7-409b-dca2-9e12f40322ec"
      },
      "source": [
        "a = []\n",
        "a = list(map(int,input(\"Enter the numbers : \").strip().split()))[:10]\n",
        "i=0\n",
        "for i in range(0, 10): \n",
        "    if ((a[i]//2) > 7):\n",
        "      print(a[i])"
      ],
      "execution_count": 15,
      "outputs": [
        {
          "output_type": "stream",
          "text": [
            "Enter the numbers : 14 56 4 5 6 89 67 34 45 10\n",
            "56\n",
            "89\n",
            "67\n",
            "34\n",
            "45\n"
          ],
          "name": "stdout"
        }
      ]
    }
  ]
}