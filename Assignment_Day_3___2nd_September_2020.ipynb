{
  "nbformat": 4,
  "nbformat_minor": 0,
  "metadata": {
    "colab": {
      "name": "Assignment Day 3 | 2nd September 2020.ipynb",
      "provenance": []
    },
    "kernelspec": {
      "name": "python3",
      "display_name": "Python 3"
    }
  },
  "cells": [
    {
      "cell_type": "markdown",
      "metadata": {
        "id": "bw_w2z6nc-XM",
        "colab_type": "text"
      },
      "source": [
        "Write a program to subtract two complex numbers in Python."
      ]
    },
    {
      "cell_type": "code",
      "metadata": {
        "id": "LzcX54mqZsSq",
        "colab_type": "code",
        "colab": {
          "base_uri": "https://localhost:8080/",
          "height": 67
        },
        "outputId": "8191c876-85e7-4f8c-e8a5-eefd5fb32d07"
      },
      "source": [
        "first = complex(input('Enter first complex number: '))\n",
        "second = complex(input('Enter second complex number: '))\n",
        "print('Diff. = ', (first - second))"
      ],
      "execution_count": 2,
      "outputs": [
        {
          "output_type": "stream",
          "text": [
            "Enter first complex number: 10+14j\n",
            "Enter second complex number: 7-9j\n",
            "Diff. =  (3+23j)\n"
          ],
          "name": "stdout"
        }
      ]
    },
    {
      "cell_type": "markdown",
      "metadata": {
        "id": "9RndK1PXdEGa",
        "colab_type": "text"
      },
      "source": [
        "Write a program to find the fourth root of a number."
      ]
    },
    {
      "cell_type": "code",
      "metadata": {
        "id": "CZLwFGomdILo",
        "colab_type": "code",
        "colab": {
          "base_uri": "https://localhost:8080/",
          "height": 50
        },
        "outputId": "a6f5ef52-6e0b-4832-a2e4-46784e3f1959"
      },
      "source": [
        "import math\n",
        "n = int(input(\"Enter a number \"))\n",
        "k = pow(n,(1.0/4))\n",
        "print(\"4th root of %d is %s\" %(n,k))"
      ],
      "execution_count": 3,
      "outputs": [
        {
          "output_type": "stream",
          "text": [
            "Enter a number 89\n",
            "4th root of 89 is 3.0714786556407327\n"
          ],
          "name": "stdout"
        }
      ]
    },
    {
      "cell_type": "markdown",
      "metadata": {
        "id": "Ke9IHJ8PfWxo",
        "colab_type": "text"
      },
      "source": [
        "Write a program to swap two numbers in Python without using a temporary variable."
      ]
    },
    {
      "cell_type": "code",
      "metadata": {
        "id": "nsJAsPwOfROq",
        "colab_type": "code",
        "colab": {
          "base_uri": "https://localhost:8080/",
          "height": 67
        },
        "outputId": "bf1e8136-1ffb-4aae-8b91-386e189902a4"
      },
      "source": [
        "x, y = (input(\"Enter two numbers \").split())\n",
        "x,y = y,x\n",
        "print(\"Value of X after swapping: %s\" %x)\n",
        "print(\"Value of Y after swapping: %s\" %y)"
      ],
      "execution_count": 7,
      "outputs": [
        {
          "output_type": "stream",
          "text": [
            "Enter two numbers 64 98\n",
            "Value of X after swapping: 98\n",
            "Value of Y after swapping: 64\n"
          ],
          "name": "stdout"
        }
      ]
    },
    {
      "cell_type": "markdown",
      "metadata": {
        "id": "J-1q4F-Shruk",
        "colab_type": "text"
      },
      "source": [
        "Write a program to convert Fahrenheit to kelvin and celsius both."
      ]
    },
    {
      "cell_type": "code",
      "metadata": {
        "id": "cy4P4CJZhrOp",
        "colab_type": "code",
        "colab": {
          "base_uri": "https://localhost:8080/",
          "height": 67
        },
        "outputId": "41820d34-779a-4a0f-d285-941c951a8b9f"
      },
      "source": [
        "def F_to_K(f): \n",
        "    return 273.15 + ((f - 32.0) * (5.0/9.0)) \n",
        "f = float(input(\"Enter temperature in Fahrenheit scale \"))\n",
        "x = F_to_K(f) \n",
        "print(\"Temperature in Kelvin scale = %.3f\" %x)\n",
        "print(\"Temperature in Celsius scale = %.3f\" %(x-273.15))"
      ],
      "execution_count": 14,
      "outputs": [
        {
          "output_type": "stream",
          "text": [
            "Enter temperature in Fahrenheit scale 188\n",
            "Temperature in Kelvin scale = 359.817\n",
            "Temperature in Celsius scale = 86.667\n"
          ],
          "name": "stdout"
        }
      ]
    },
    {
      "cell_type": "markdown",
      "metadata": {
        "id": "RAKNU6Epk3Ex",
        "colab_type": "text"
      },
      "source": [
        "Write a program to demonstrate all the available data types in Python. Hint: Use type() function.\n",
        "Text Type:\tstr\n",
        "Numeric Types:\tint, float, complex\n",
        "Sequence Types:\tlist, tuple, range\n",
        "Mapping Type:\tdict\n",
        "Set Types:\tset, frozenset\n",
        "Boolean Type:\tbool\n",
        "Binary Types:\tbytes, bytearray, memoryview"
      ]
    },
    {
      "cell_type": "code",
      "metadata": {
        "id": "GSK1-G9bk7ka",
        "colab_type": "code",
        "colab": {
          "base_uri": "https://localhost:8080/",
          "height": 487
        },
        "outputId": "c012973e-b335-42fc-d986-2e1ab7721e28"
      },
      "source": [
        "x = \"Hello World\"\t\n",
        "print(x)\n",
        "print(type(x))\n",
        "x = 89\t\n",
        "print(x)\n",
        "print(type(x))\n",
        "x = 20.5\t\n",
        "print(x)\n",
        "print(type(x))\n",
        "x = 4+9j\n",
        "print(x)\n",
        "print(type(x))\n",
        "x = [\"Machine Learning\", \"Deep Learning\", \"Data Science\"]\t\n",
        "print(x)\n",
        "print(type(x))\t\n",
        "x = (\"Digital Marketing\", \"Industrial Hemp\", \"Psychology\")\t\n",
        "print(x)\n",
        "print(type(x))\n",
        "x = range(6)\n",
        "print(x)\n",
        "print(type(x))\t\n",
        "x = {\"name\" : \"Robert Downey Jr.\", \"age\" : 55}\n",
        "print(x)\n",
        "print(type(x))\t\n",
        "x = {\"Machine Learning\", \"Deep Learning\", \"Data Science\"}\t\n",
        "print(x)\n",
        "print(type(x))\n",
        "x = frozenset({\"Digital Marketing\", \"Industrial Hemp\", \"Psychology\"})\t\n",
        "print(x)\n",
        "print(type(x))\n",
        "x = True\t\t\n",
        "print(x)\n",
        "print(type(x))\n",
        "x = b\"RDJ\"\n",
        "print(x)\n",
        "print(type(x))\t\t\n",
        "x = bytearray(20)\t\n",
        "print(x)\n",
        "print(type(x))\n",
        "x = memoryview(bytes(24))\n",
        "print(x)\n",
        "print(type(x))"
      ],
      "execution_count": 15,
      "outputs": [
        {
          "output_type": "stream",
          "text": [
            "Hello World\n",
            "<class 'str'>\n",
            "89\n",
            "<class 'int'>\n",
            "20.5\n",
            "<class 'float'>\n",
            "(4+9j)\n",
            "<class 'complex'>\n",
            "['Machine Learning', 'Deep Learning', 'Data Science']\n",
            "<class 'list'>\n",
            "('Digital Marketing', 'Industrial Hemp', 'Psychology')\n",
            "<class 'tuple'>\n",
            "range(0, 6)\n",
            "<class 'range'>\n",
            "{'name': 'Robert Downey Jr.', 'age': 55}\n",
            "<class 'dict'>\n",
            "{'Machine Learning', 'Data Science', 'Deep Learning'}\n",
            "<class 'set'>\n",
            "frozenset({'Psychology', 'Industrial Hemp', 'Digital Marketing'})\n",
            "<class 'frozenset'>\n",
            "True\n",
            "<class 'bool'>\n",
            "b'RDJ'\n",
            "<class 'bytes'>\n",
            "bytearray(b'\\x00\\x00\\x00\\x00\\x00\\x00\\x00\\x00\\x00\\x00\\x00\\x00\\x00\\x00\\x00\\x00\\x00\\x00\\x00\\x00')\n",
            "<class 'bytearray'>\n",
            "<memory at 0x7f8e2782cb88>\n",
            "<class 'memoryview'>\n"
          ],
          "name": "stdout"
        }
      ]
    }
  ]
}