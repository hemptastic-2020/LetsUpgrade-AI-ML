{
  "nbformat": 4,
  "nbformat_minor": 0,
  "metadata": {
    "colab": {
      "name": "Assignment Day 10 | 11th September 2020.ipynb",
      "provenance": [],
      "authorship_tag": "ABX9TyMyrePQJK5gndDqgE02fvNC"
    },
    "kernelspec": {
      "name": "python3",
      "display_name": "Python 3"
    }
  },
  "cells": [
    {
      "cell_type": "markdown",
      "metadata": {
        "id": "pja9EbpR0eT7",
        "colab_type": "text"
      },
      "source": [
        "Question 1: Create an element-wise comparison (greater, greater_equal, less and less_equal) of two given arrays.\n",
        "\n",
        "\n",
        "\n"
      ]
    },
    {
      "cell_type": "code",
      "metadata": {
        "id": "GaKY-ETt1HGG",
        "colab_type": "code",
        "colab": {
          "base_uri": "https://localhost:8080/",
          "height": 202
        },
        "outputId": "ff827bf1-2a92-4433-b985-6a530c4de699"
      },
      "source": [
        "import numpy as np\n",
        "x = np.array([678,456,340,872,735,652])\n",
        "y = np.array([909,786,123,872,765,345])\n",
        "print(\"Original numbers:\")\n",
        "print(x)\n",
        "print(y)\n",
        "print(\"Comparison - greater\")\n",
        "print(np.greater(x, y))\n",
        "print(\"Comparison - greater_equal\")\n",
        "print(np.greater_equal(x, y))\n",
        "print(\"Comparison - less\")\n",
        "print(np.less(x, y))\n",
        "print(\"Comparison - less_equal\")\n",
        "print(np.less_equal(x, y))"
      ],
      "execution_count": 36,
      "outputs": [
        {
          "output_type": "stream",
          "text": [
            "Original numbers:\n",
            "[678 456 340 872 735 652]\n",
            "[909 786 123 872 765 345]\n",
            "Comparison - greater\n",
            "[False False  True False False  True]\n",
            "Comparison - greater_equal\n",
            "[False False  True  True False  True]\n",
            "Comparison - less\n",
            "[ True  True False False  True False]\n",
            "Comparison - less_equal\n",
            "[ True  True False  True  True False]\n"
          ],
          "name": "stdout"
        }
      ]
    },
    {
      "cell_type": "markdown",
      "metadata": {
        "id": "7kl0bZO40pzr",
        "colab_type": "text"
      },
      "source": [
        "Question 2: Write a NumPy program to create an array of 10 zeros,10 ones, 10 fives"
      ]
    },
    {
      "cell_type": "code",
      "metadata": {
        "id": "JmFI-9rm00MN",
        "colab_type": "code",
        "colab": {
          "base_uri": "https://localhost:8080/",
          "height": 118
        },
        "outputId": "22077ec5-4904-4a49-8c28-333a941b28da"
      },
      "source": [
        "import numpy as np\n",
        "a=np.zeros(10)\n",
        "print(\"An array of 10 zeros:\")\n",
        "print(a)\n",
        "a=np.ones(10)\n",
        "print(\"An array of 10 ones:\")\n",
        "print(a)\n",
        "a=np.ones(10)*5\n",
        "print(\"An array of 10 fives:\")\n",
        "print(a)"
      ],
      "execution_count": 28,
      "outputs": [
        {
          "output_type": "stream",
          "text": [
            "An array of 10 zeros:\n",
            "[0. 0. 0. 0. 0. 0. 0. 0. 0. 0.]\n",
            "An array of 10 ones:\n",
            "[1. 1. 1. 1. 1. 1. 1. 1. 1. 1.]\n",
            "An array of 10 fives:\n",
            "[5. 5. 5. 5. 5. 5. 5. 5. 5. 5.]\n"
          ],
          "name": "stdout"
        }
      ]
    },
    {
      "cell_type": "markdown",
      "metadata": {
        "id": "K11gnwTe1H73",
        "colab_type": "text"
      },
      "source": [
        "Question 3: Write a NumPy program to compute sum of all elements, sum of each column and sum of each row of a given array."
      ]
    },
    {
      "cell_type": "code",
      "metadata": {
        "id": "O69hkxtH1JI1",
        "colab_type": "code",
        "colab": {
          "base_uri": "https://localhost:8080/",
          "height": 185
        },
        "outputId": "896f4995-a7b9-4570-b26e-0f7ab76e478f"
      },
      "source": [
        "import numpy as np\n",
        "x = np.array([[96,108,720],[1000,2000,907],[450,7098,8456]])\n",
        "print(\"Original array:\")\n",
        "print(x)\n",
        "print(\"Sum of all elements:\")\n",
        "print(np.sum(x))\n",
        "print(\"Sum of each column:\")\n",
        "print(np.sum(x, axis=0))\n",
        "print(\"Sum of each row:\")\n",
        "print(np.sum(x, axis=1))"
      ],
      "execution_count": 30,
      "outputs": [
        {
          "output_type": "stream",
          "text": [
            "Original array:\n",
            "[[  96  108  720]\n",
            " [1000 2000  907]\n",
            " [ 450 7098 8456]]\n",
            "Sum of all elements:\n",
            "20835\n",
            "Sum of each column:\n",
            "[ 1546  9206 10083]\n",
            "Sum of each row:\n",
            "[  924  3907 16004]\n"
          ],
          "name": "stdout"
        }
      ]
    },
    {
      "cell_type": "markdown",
      "metadata": {
        "id": "PlHt5iEI1KJ4",
        "colab_type": "text"
      },
      "source": [
        "Question 4: Write a NumPy program to add, subtract, multiply, divide arguments element-wise."
      ]
    },
    {
      "cell_type": "code",
      "metadata": {
        "id": "9hu4mwtS1QDW",
        "colab_type": "code",
        "colab": {
          "base_uri": "https://localhost:8080/",
          "height": 286
        },
        "outputId": "b140b28f-bafc-42e2-ec3f-da2d9d977432"
      },
      "source": [
        "import numpy as np\n",
        "y = np.array([[89,18,72],[100,200,2721],[900,70,84]])\n",
        "print(\"Add:\")\n",
        "print(np.add(x, y))\n",
        "print(\"Subtract:\")\n",
        "print(np.subtract(x, y))\n",
        "print(\"Multiply:\")\n",
        "print(np.multiply(x, y))\n",
        "print(\"Divide:\")\n",
        "print(np.divide(x, y))"
      ],
      "execution_count": 31,
      "outputs": [
        {
          "output_type": "stream",
          "text": [
            "Add:\n",
            "[[ 185  126  792]\n",
            " [1100 2200 3628]\n",
            " [1350 7168 8540]]\n",
            "Subtract:\n",
            "[[    7    90   648]\n",
            " [  900  1800 -1814]\n",
            " [ -450  7028  8372]]\n",
            "Multiply:\n",
            "[[   8544    1944   51840]\n",
            " [ 100000  400000 2467947]\n",
            " [ 405000  496860  710304]]\n",
            "Divide:\n",
            "[[  1.07865169   6.          10.        ]\n",
            " [ 10.          10.           0.33333333]\n",
            " [  0.5        101.4        100.66666667]]\n"
          ],
          "name": "stdout"
        }
      ]
    },
    {
      "cell_type": "markdown",
      "metadata": {
        "id": "178IqGUj1Q4K",
        "colab_type": "text"
      },
      "source": [
        "Question 5: Write a NumPy program to compute the trigonometric sine, cosine and tangent array of angles given in degree."
      ]
    },
    {
      "cell_type": "code",
      "metadata": {
        "id": "3vA-zE3s1YqN",
        "colab_type": "code",
        "colab": {
          "base_uri": "https://localhost:8080/",
          "height": 151
        },
        "outputId": "7ca8f338-b755-49de-efed-2e5e56ee8ed7"
      },
      "source": [
        "import numpy as np\n",
        "print(\"sine: array of angles given in degrees\")\n",
        "print(np.sin(np.array((0., 30., 45., 60., 90.)) * np.pi / 180.))\n",
        "print(\"cosine: array of angles given in degrees\")\n",
        "print(np.cos(np.array((0., 30., 45., 60., 90.)) * np.pi / 180.))\n",
        "print(\"tangent: array of angles given in degrees\")\n",
        "print(np.tan(np.array((0., 30., 45., 60., 90.)) * np.pi / 180.))"
      ],
      "execution_count": 32,
      "outputs": [
        {
          "output_type": "stream",
          "text": [
            "sine: array of angles given in degrees\n",
            "[0.         0.5        0.70710678 0.8660254  1.        ]\n",
            "cosine: array of angles given in degrees\n",
            "[1.00000000e+00 8.66025404e-01 7.07106781e-01 5.00000000e-01\n",
            " 6.12323400e-17]\n",
            "tangent: array of angles given in degrees\n",
            "[0.00000000e+00 5.77350269e-01 1.00000000e+00 1.73205081e+00\n",
            " 1.63312394e+16]\n"
          ],
          "name": "stdout"
        }
      ]
    },
    {
      "cell_type": "markdown",
      "metadata": {
        "id": "mlXj8Z1X1ZQV",
        "colab_type": "text"
      },
      "source": [
        "Question 6: Write a Pandas program to create and display a DataFrame from a specified dictionary data which has the index labels."
      ]
    },
    {
      "cell_type": "code",
      "metadata": {
        "id": "3QKfdWTj1jMm",
        "colab_type": "code",
        "colab": {
          "base_uri": "https://localhost:8080/",
          "height": 202
        },
        "outputId": "4df70b61-184d-437f-b34f-05090ea02542"
      },
      "source": [
        "import pandas as pd\n",
        "import numpy as np\n",
        "\n",
        "exam_data  = {'name': ['Anastasia', 'Dima', 'Katherine', 'James', 'Emily', 'Michael', 'Matthew', 'Laura', 'Kevin', 'Jonas'],\n",
        "        'score': [12.5, 9, 16.5, np.nan, 9, 20, 14.5, np.nan, 8, 19],\n",
        "        'attempts': [1, 3, 2, 3, 2, 3, 1, 1, 2, 1],\n",
        "        'qualify': ['yes', 'no', 'yes', 'no', 'no', 'yes', 'yes', 'no', 'no', 'yes']}\n",
        "labels = ['a', 'b', 'c', 'd', 'e', 'f', 'g', 'h', 'i', 'j']\n",
        "\n",
        "df = pd.DataFrame(exam_data , index=labels)\n",
        "print(df)\n"
      ],
      "execution_count": 39,
      "outputs": [
        {
          "output_type": "stream",
          "text": [
            "        name  score  attempts qualify\n",
            "a  Anastasia   12.5         1     yes\n",
            "b       Dima    9.0         3      no\n",
            "c  Katherine   16.5         2     yes\n",
            "d      James    NaN         3      no\n",
            "e      Emily    9.0         2      no\n",
            "f    Michael   20.0         3     yes\n",
            "g    Matthew   14.5         1     yes\n",
            "h      Laura    NaN         1      no\n",
            "i      Kevin    8.0         2      no\n",
            "j      Jonas   19.0         1     yes\n"
          ],
          "name": "stdout"
        }
      ]
    },
    {
      "cell_type": "markdown",
      "metadata": {
        "id": "-LBv6rRs1kQQ",
        "colab_type": "text"
      },
      "source": [
        "Question 7: Write a Pandas program to select the 'name' and 'score' columns from the following DataFrame."
      ]
    },
    {
      "cell_type": "code",
      "metadata": {
        "id": "m5eu14kH1qMB",
        "colab_type": "code",
        "colab": {
          "base_uri": "https://localhost:8080/",
          "height": 218
        },
        "outputId": "9a82f6aa-5c11-438c-bcd2-7dbc02ffd751"
      },
      "source": [
        "import pandas as pd\n",
        "import numpy as np\n",
        "\n",
        "exam_data  = {'name': ['Anastasia', 'Dima', 'Katherine', 'James', 'Emily', 'Michael', 'Matthew', 'Laura', 'Kevin', 'Jonas'],\n",
        "        'score': [12.5, 9, 16.5, np.nan, 9, 20, 14.5, np.nan, 8, 19],\n",
        "        'attempts': [1, 3, 2, 3, 2, 3, 1, 1, 2, 1],\n",
        "        'qualify': ['yes', 'no', 'yes', 'no', 'no', 'yes', 'yes', 'no', 'no', 'yes']}\n",
        "labels = ['a', 'b', 'c', 'd', 'e', 'f', 'g', 'h', 'i', 'j']\n",
        "\n",
        "df = pd.DataFrame(exam_data , index=labels)\n",
        "print(\"Select specific columns:\")\n",
        "print(df[['name', 'score']])\n"
      ],
      "execution_count": 40,
      "outputs": [
        {
          "output_type": "stream",
          "text": [
            "Select specific columns:\n",
            "        name  score\n",
            "a  Anastasia   12.5\n",
            "b       Dima    9.0\n",
            "c  Katherine   16.5\n",
            "d      James    NaN\n",
            "e      Emily    9.0\n",
            "f    Michael   20.0\n",
            "g    Matthew   14.5\n",
            "h      Laura    NaN\n",
            "i      Kevin    8.0\n",
            "j      Jonas   19.0\n"
          ],
          "name": "stdout"
        }
      ]
    },
    {
      "cell_type": "markdown",
      "metadata": {
        "id": "JIqjlQ6W1q1z",
        "colab_type": "text"
      },
      "source": [
        "Question 8: Write a Pandas program to join the two given dataframes along rows and assign all data."
      ]
    },
    {
      "cell_type": "code",
      "metadata": {
        "id": "Xtd2Ro_U1zIt",
        "colab_type": "code",
        "colab": {
          "base_uri": "https://localhost:8080/",
          "height": 470
        },
        "outputId": "6e267c91-fea0-46fd-accd-4f7721fb4b59"
      },
      "source": [
        "import pandas as pd\n",
        "\n",
        "student_data1 = pd.DataFrame({\n",
        "        'student_id': ['S1', 'S2', 'S3', 'S4', 'S5'],\n",
        "         'name': ['Danniella Fenton', 'Ryder Storey', 'Bryce Jensen', 'Ed Bernal', 'Kwame Morin'], \n",
        "        'marks': [200, 210, 190, 222, 199]})\n",
        "\n",
        "student_data2 = pd.DataFrame({\n",
        "        'student_id': ['S4', 'S5', 'S6', 'S7', 'S8'],\n",
        "        'name': ['Scarlette Fisher', 'Carla Williamson', 'Dante Morse', 'Kaiser William', 'Madeeha Preston'], \n",
        "        'marks': [201, 200, 198, 219, 201]})\n",
        "\n",
        "print(\"Original DataFrames:\")\n",
        "print(student_data1)\n",
        "print(\"-------------------------------------\")\n",
        "print(student_data2)\n",
        "print(\"\\nJoin the said two dataframes along rows:\")\n",
        "result_data = pd.concat([student_data1, student_data2])\n",
        "print(result_data)"
      ],
      "execution_count": 38,
      "outputs": [
        {
          "output_type": "stream",
          "text": [
            "Original DataFrames:\n",
            "  student_id              name  marks\n",
            "0         S1  Danniella Fenton    200\n",
            "1         S2      Ryder Storey    210\n",
            "2         S3      Bryce Jensen    190\n",
            "3         S4         Ed Bernal    222\n",
            "4         S5       Kwame Morin    199\n",
            "-------------------------------------\n",
            "  student_id              name  marks\n",
            "0         S4  Scarlette Fisher    201\n",
            "1         S5  Carla Williamson    200\n",
            "2         S6       Dante Morse    198\n",
            "3         S7    Kaiser William    219\n",
            "4         S8   Madeeha Preston    201\n",
            "\n",
            "Join the said two dataframes along rows:\n",
            "  student_id              name  marks\n",
            "0         S1  Danniella Fenton    200\n",
            "1         S2      Ryder Storey    210\n",
            "2         S3      Bryce Jensen    190\n",
            "3         S4         Ed Bernal    222\n",
            "4         S5       Kwame Morin    199\n",
            "0         S4  Scarlette Fisher    201\n",
            "1         S5  Carla Williamson    200\n",
            "2         S6       Dante Morse    198\n",
            "3         S7    Kaiser William    219\n",
            "4         S8   Madeeha Preston    201\n"
          ],
          "name": "stdout"
        }
      ]
    },
    {
      "cell_type": "markdown",
      "metadata": {
        "id": "LPiXNDiq1zlQ",
        "colab_type": "text"
      },
      "source": [
        "Question 9: Write a Pandas program to detect missing values of a given DataFrame. Display True or False."
      ]
    },
    {
      "cell_type": "code",
      "metadata": {
        "id": "MwO8lspC15G0",
        "colab_type": "code",
        "colab": {
          "base_uri": "https://localhost:8080/",
          "height": 504
        },
        "outputId": "5322bc2e-b3c3-4669-fc98-3a912faa45e4"
      },
      "source": [
        "import pandas as pd\n",
        "import numpy as np\n",
        "pd.set_option('display.max_rows', None)\n",
        "#pd.set_option('display.max_columns', None)\n",
        "df = pd.DataFrame({\n",
        "'ord_no':[70001,np.nan,70002,70004,np.nan,70005,np.nan,70010,70003,70012,np.nan,70013],\n",
        "'purch_amt':[150.5,270.65,65.26,110.5,948.5,2400.6,5760,1983.43,2480.4,250.45, 75.29,3045.6],\n",
        "'ord_date': ['2012-10-05','2012-09-10',np.nan,'2012-08-17','2012-09-10','2012-07-27','2012-09-10','2012-10-10','2012-10-10','2012-06-27','2012-08-17','2012-04-25'],\n",
        "'customer_id':[3002,3001,3001,3003,3002,3001,3001,3004,3003,3002,3001,3001],\n",
        "'salesman_id':[5002,5003,5001,np.nan,5002,5001,5001,np.nan,5003,5002,5003,np.nan]})\n",
        "print(\"Original Orders DataFrame:\")\n",
        "print(df)\n",
        "print(\"\\nMissing values of the said dataframe:\")\n",
        "print(df.isna())\n"
      ],
      "execution_count": 37,
      "outputs": [
        {
          "output_type": "stream",
          "text": [
            "Original Orders DataFrame:\n",
            "     ord_no  purch_amt    ord_date  customer_id  salesman_id\n",
            "0   70001.0     150.50  2012-10-05         3002       5002.0\n",
            "1       NaN     270.65  2012-09-10         3001       5003.0\n",
            "2   70002.0      65.26         NaN         3001       5001.0\n",
            "3   70004.0     110.50  2012-08-17         3003          NaN\n",
            "4       NaN     948.50  2012-09-10         3002       5002.0\n",
            "5   70005.0    2400.60  2012-07-27         3001       5001.0\n",
            "6       NaN    5760.00  2012-09-10         3001       5001.0\n",
            "7   70010.0    1983.43  2012-10-10         3004          NaN\n",
            "8   70003.0    2480.40  2012-10-10         3003       5003.0\n",
            "9   70012.0     250.45  2012-06-27         3002       5002.0\n",
            "10      NaN      75.29  2012-08-17         3001       5003.0\n",
            "11  70013.0    3045.60  2012-04-25         3001          NaN\n",
            "\n",
            "Missing values of the said dataframe:\n",
            "    ord_no  purch_amt  ord_date  customer_id  salesman_id\n",
            "0    False      False     False        False        False\n",
            "1     True      False     False        False        False\n",
            "2    False      False      True        False        False\n",
            "3    False      False     False        False         True\n",
            "4     True      False     False        False        False\n",
            "5    False      False     False        False        False\n",
            "6     True      False     False        False        False\n",
            "7    False      False     False        False         True\n",
            "8    False      False     False        False        False\n",
            "9    False      False     False        False        False\n",
            "10    True      False     False        False        False\n",
            "11   False      False     False        False         True\n"
          ],
          "name": "stdout"
        }
      ]
    },
    {
      "cell_type": "markdown",
      "metadata": {
        "id": "Z5eh9q4p15tD",
        "colab_type": "text"
      },
      "source": [
        "Question 10: Write a Pandas program to create and display a one-dimensional array-like object containing an array of data."
      ]
    },
    {
      "cell_type": "code",
      "metadata": {
        "id": "xNosxOcH1_fy",
        "colab_type": "code",
        "colab": {
          "base_uri": "https://localhost:8080/",
          "height": 134
        },
        "outputId": "c7f2cfbb-ab74-418e-ceb3-f2a68af98dbc"
      },
      "source": [
        "import pandas as pd \n",
        "data = [678,456,340,872,735,652]  \n",
        "a = pd.Series(data) \n",
        "print(a) "
      ],
      "execution_count": 34,
      "outputs": [
        {
          "output_type": "stream",
          "text": [
            "0    678\n",
            "1    456\n",
            "2    340\n",
            "3    872\n",
            "4    735\n",
            "5    652\n",
            "dtype: int64\n"
          ],
          "name": "stdout"
        }
      ]
    }
  ]
}