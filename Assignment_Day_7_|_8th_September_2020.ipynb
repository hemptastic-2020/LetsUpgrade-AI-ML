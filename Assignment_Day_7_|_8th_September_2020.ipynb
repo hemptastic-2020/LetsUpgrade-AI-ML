{
  "nbformat": 4,
  "nbformat_minor": 0,
  "metadata": {
    "colab": {
      "name": "Assignment Day 7 | 8th September 2020.ipynb",
      "provenance": [],
      "authorship_tag": "ABX9TyO5BJBBM7o5T6r81ygGmCY9"
    },
    "kernelspec": {
      "name": "python3",
      "display_name": "Python 3"
    }
  },
  "cells": [
    {
      "cell_type": "markdown",
      "metadata": {
        "id": "3yas8DLvSQCF",
        "colab_type": "text"
      },
      "source": [
        "Question 1: Write a program to copy the contents of one file to another using a for loop. (Don’t use built-in copy function)\n"
      ]
    },
    {
      "cell_type": "code",
      "metadata": {
        "id": "1qJmCcBzSW5s",
        "colab_type": "code",
        "colab": {
          "base_uri": "https://localhost:8080/",
          "height": 101
        },
        "outputId": "dd54d932-f3ac-42b5-9c1d-df8986a33aca"
      },
      "source": [
        "\n",
        "with open('example.txt', 'w') as f1:\n",
        "  f1.write('Dfvbjbdfkjbdfjnkj \\n jhdfvhgvfjhvfvhjmdfj \\n jhfhfdh ')\n",
        "with open('example.txt', 'r') as f1:\n",
        "    with open(\"ex.txt\", \"w\") as f2:\n",
        "        for line in f1:\n",
        "            f2.write(line)\n",
        "\n",
        "a_file = open(\"ex.txt\")\n",
        "\n",
        "lines = a_file.readlines()\n",
        "for line in lines:\n",
        "    print(line)"
      ],
      "execution_count": 26,
      "outputs": [
        {
          "output_type": "stream",
          "text": [
            "Dfvbjbdfkjbdfjnkj \n",
            "\n",
            " jhdfvhgvfjhvfvhjmdfj \n",
            "\n",
            " jhfhfdh \n"
          ],
          "name": "stdout"
        }
      ]
    },
    {
      "cell_type": "markdown",
      "metadata": {
        "id": "OqNmHyDISXhR",
        "colab_type": "text"
      },
      "source": [
        "Question 2: Write a Python program to find maximum and minimum values in the dictionary. Do not use built-in min and max functions.\n",
        "\n"
      ]
    },
    {
      "cell_type": "code",
      "metadata": {
        "id": "626loDVFSa1-",
        "colab_type": "code",
        "colab": {
          "base_uri": "https://localhost:8080/",
          "height": 50
        },
        "outputId": "992fa7de-18ee-4a52-b15b-ed1ffb9a2b60"
      },
      "source": [
        "sol = {\"Uranus\":[2750, 3000, 2880], \"Mercury\":[46, 70, 57], \"Earth\":[147, 152, 150], \"Venus\":[107, 109, 108], \"Mars\":[205, 249, 228], \"Saturn\":[1350, 1510, 1430], \"Jupiter\":[741, 817, 779], \"Pluto\":[4440, 7380, 5910], \"Neptune\":[4450, 4550, 4500]}\n",
        "\n",
        "def distance(close=True):\n",
        "    closest = 999999 \n",
        "    farthest = 0\n",
        "    for name in sol:\n",
        "        for index in range (3) :\n",
        "            closefar = sol[name][index]\n",
        "            if close :\n",
        "                if closefar < closest :\n",
        "                    closefarname = name\n",
        "                    closest = closefar\n",
        "            else :\n",
        "                if closefar > farthest :\n",
        "                    closefarname = name\n",
        "                    farthest = closefar\n",
        "    return closefarname\n",
        "\n",
        "print(\"Min:\", distance(True))\n",
        "print(\"Max:\", distance(False))"
      ],
      "execution_count": 27,
      "outputs": [
        {
          "output_type": "stream",
          "text": [
            "Min: Mercury\n",
            "Max: Pluto\n"
          ],
          "name": "stdout"
        }
      ]
    }
  ]
}