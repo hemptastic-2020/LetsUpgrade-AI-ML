{
  "nbformat": 4,
  "nbformat_minor": 0,
  "metadata": {
    "colab": {
      "name": "Assignment Day 5 | 4th September 2020.ipynb",
      "provenance": []
    },
    "kernelspec": {
      "name": "python3",
      "display_name": "Python 3"
    }
  },
  "cells": [
    {
      "cell_type": "markdown",
      "metadata": {
        "id": "CRmYb_sazKBx",
        "colab_type": "text"
      },
      "source": [
        "Question 1 :\n",
        "Write a Python program to find the first 20 non-even prime natural numbers."
      ]
    },
    {
      "cell_type": "code",
      "metadata": {
        "id": "BhuDSyxezLq0",
        "colab_type": "code",
        "colab": {
          "base_uri": "https://localhost:8080/",
          "height": 34
        },
        "outputId": "7b29ca21-81e2-45fb-df36-0294f49560bf"
      },
      "source": [
        "l = [3,5,7]\n",
        "c = 1\n",
        "n = 2\n",
        "while c <= 17:\n",
        "  a = 6*n - 1\n",
        "  b = 6*n + 1 \n",
        "\n",
        "  if (a%5 != 0 and a%7 != 0):\n",
        "    l.append(a)\n",
        "    c+=1\n",
        "\n",
        "  if (b%5 != 0 and b%7 != 0):\n",
        "    l.append(b)\n",
        "    c+=1\n",
        "\n",
        "  n+=1\n",
        "\n",
        "print(l)\n"
      ],
      "execution_count": null,
      "outputs": [
        {
          "output_type": "stream",
          "text": [
            "[3, 5, 7, 11, 13, 17, 19, 23, 29, 31, 37, 41, 43, 47, 53, 59, 61, 67, 71, 73]\n"
          ],
          "name": "stdout"
        }
      ]
    },
    {
      "cell_type": "markdown",
      "metadata": {
        "id": "2OpL8p_3zXkt",
        "colab_type": "text"
      },
      "source": [
        ";Question 2 :\n",
        "Write a Python program to implement 15 functions of string.\n",
        "\n"
      ]
    },
    {
      "cell_type": "code",
      "metadata": {
        "id": "NP34-GWMzYFZ",
        "colab_type": "code",
        "colab": {
          "base_uri": "https://localhost:8080/",
          "height": 336
        },
        "outputId": "85ecbfde-6a86-4585-fef1-59341188246e"
      },
      "source": [
        "s = input(\"Enter a string : \")\n",
        "\n",
        "if s.isalpha() == True:  #1\n",
        "   print(\"All characters are alphabets\")\n",
        "else:\n",
        "    print(\"All characters are not alphabets.\")\n",
        "\n",
        "print(s.swapcase()) #2\n",
        "\n",
        "if s.isalnum() == True:  #3\n",
        "   print(\"All characters of string are alphanumeric.\")\n",
        "else:\n",
        "    print(\"All characters are not alphanumeric.\")\n",
        "\n",
        "if s.isspace() == True:  #4\n",
        "  print('All whitespace characters')\n",
        "else:\n",
        "  print('Contains non-whitespace characters.')\n",
        "\n",
        "if s.isnumeric() == True:  #5\n",
        "  print('All characters are numeric.')\n",
        "else:\n",
        "  print('All characters are not numeric.')\n",
        "\n",
        "substring = input(\"Enter the substring to be searched : \")\n",
        "a = int(input(\"Enter start value for substring search: \"))\n",
        "b = int(input(\"Enter end value for substring search: \"))\n",
        "print(s.find(substring, a, b))  #6\n",
        "print(s.rfind(substring, a, b))  #7\n",
        "result = s.startswith(substring, a, b)  #8\n",
        "print(result)\n",
        "count = s.count(substring, a, b) #9\n",
        "print(\"The count is:\", count)\n",
        "\n",
        "if s.isupper() == True: #10\n",
        "  print('Uppercase String')\n",
        "else:\n",
        "  print('Not an uppercase String')\n",
        "\n",
        "if s.islower() == True: #11\n",
        "  print('Lowercase String')\n",
        "else:\n",
        "  print('Not an lowercase String')\n",
        "\n",
        "if s.istitle() == True: #12\n",
        "  print('Titlecased String')\n",
        "else:\n",
        "  print('Not a Titlecased String')\n",
        "\n",
        "print(s.zfill(len(s)+6)) #13\n",
        "\n",
        "print(s.isdecimal()) #14\n",
        "\n",
        "if s.isidentifier() == True: #15\n",
        "  print(s, 'is a valid identifier.')\n",
        "else:\n",
        "  print(s, 'is not a valid identifier.')\n",
        "\n",
        "\n",
        "\n",
        "\n",
        "\n",
        "\n",
        "\n"
      ],
      "execution_count": 1,
      "outputs": [
        {
          "output_type": "stream",
          "text": [
            "Enter a string : Chadwick Boseman\n",
            "All characters are not alphabets.\n",
            "cHADWICK bOSEMAN\n",
            "All characters are not alphanumeric.\n",
            "Contains non-whitespace characters.\n",
            "All characters are not numeric.\n",
            "Enter the substring to be searched : Bose\n",
            "Enter start value for substring search: 8\n",
            "Enter end value for substring search: 12\n",
            "-1\n",
            "-1\n",
            "False\n",
            "The count is: 0\n",
            "Not an uppercase String\n",
            "Not an lowercase String\n",
            "Titlecased String\n",
            "000000Chadwick Boseman\n",
            "False\n",
            "Chadwick Boseman is not a valid identifier.\n"
          ],
          "name": "stdout"
        }
      ]
    },
    {
      "cell_type": "markdown",
      "metadata": {
        "id": "NOjgGp2pzZEc",
        "colab_type": "text"
      },
      "source": [
        "Question 3:\n",
        "Write a Python program to check if the given string is a Palindrome or Anagram or None of them. Display the message accordingly to the user."
      ]
    },
    {
      "cell_type": "code",
      "metadata": {
        "id": "lFgZAESYzZjJ",
        "colab_type": "code",
        "colab": {
          "base_uri": "https://localhost:8080/",
          "height": 101
        },
        "outputId": "aab51065-26c1-4425-e2fb-df8002eff569"
      },
      "source": [
        "def isAnagram(s1,s2):\n",
        "  return (sorted(s1.lower()) == sorted(s2.lower()))\n",
        "def isPalindrome(s):\n",
        "  return s.lower() == s.lower()[::-1]\n",
        "a = input(\"Enter 1st string for anagram check: \")\n",
        "b = input(\"Enter 2nd string for anagram check: \")\n",
        "if isAnagram(a,b):\n",
        "  print(\"Both strings are anagrams of each other.\")\n",
        "else:\n",
        "  print(\"Both strings are not anagrams of each other.\")\n",
        "c = input(\"Enter string for palindrome check: \")\n",
        "if isPalindrome(c):\n",
        "  print(\"{} is a palindrome\".format(c))\n",
        "else:\n",
        "  print(\"{} is not a palindrome\".format(c))"
      ],
      "execution_count": null,
      "outputs": [
        {
          "output_type": "stream",
          "text": [
            "Enter 1st string for anagram check: SILENT\n",
            "Enter 2nd string for anagram check: Listen\n",
            "Both strings are anagrams of each other.\n",
            "Enter string for palindrome check: Malayalam\n",
            "Malayalam is a palindrome\n"
          ],
          "name": "stdout"
        }
      ]
    },
    {
      "cell_type": "markdown",
      "metadata": {
        "id": "sLZj-MtCzaTq",
        "colab_type": "text"
      },
      "source": [
        "Question 4:\n",
        "Write a Python's user-defined function that removes all the additional characters from the string and convert it finally to lower case using built-in lower(). eg: If the string is \"Dr. Darshan Ingle @AIML Trainer\", then the output be \"drdarshaningleaimltrainer\"."
      ]
    },
    {
      "cell_type": "code",
      "metadata": {
        "id": "sMW8bM1QzdIr",
        "colab_type": "code",
        "colab": {
          "base_uri": "https://localhost:8080/",
          "height": 50
        },
        "outputId": "12cc1a90-29c6-4c94-91d4-6039270b6972"
      },
      "source": [
        "def strchng(s):\n",
        "  s = s.lower()\n",
        "  result = re.sub('[\\W | \\d_]+', '', s) \n",
        "  return result\n",
        "\n",
        "a = input(\"Enter a string: \")\n",
        "print(strchng(a))"
      ],
      "execution_count": null,
      "outputs": [
        {
          "output_type": "stream",
          "text": [
            "Enter a string: Dr. Darshan Ingle @AIML Trainer\n",
            "drdarshaningleaimltrainer\n"
          ],
          "name": "stdout"
        }
      ]
    }
  ]
}