{
  "nbformat": 4,
  "nbformat_minor": 0,
  "metadata": {
    "colab": {
      "name": "Assignment Day 6 | 7th September 2020.ipynb",
      "provenance": []
    },
    "kernelspec": {
      "name": "python3",
      "display_name": "Python 3"
    }
  },
  "cells": [
    {
      "cell_type": "markdown",
      "metadata": {
        "id": "VKySLpBppqS2",
        "colab_type": "text"
      },
      "source": [
        "Question 1 :\n",
        "Assuming that we have some email addresses in the \"username@companyname.com\" format, please write a program to print the company name of a given email address. Both user names and company names are composed of letters only."
      ]
    },
    {
      "cell_type": "code",
      "metadata": {
        "id": "8OgIboPnpw2_",
        "colab_type": "code",
        "colab": {
          "base_uri": "https://localhost:8080/",
          "height": 50
        },
        "outputId": "864daa84-16d5-44df-fdc7-2b7239cfb71a"
      },
      "source": [
        "a = input(\"Enter an e-mail address: \")\n",
        "b = a.find('@')\n",
        "c = a.find('.',b)\n",
        "print(\"The name of the company is\", format(a[b+1:c].upper()))"
      ],
      "execution_count": null,
      "outputs": [
        {
          "output_type": "stream",
          "text": [
            "Enter an e-mail address: bill.gates@microsoft.co.in\n",
            "The name of the company is MICROSOFT\n"
          ],
          "name": "stdout"
        }
      ]
    },
    {
      "cell_type": "markdown",
      "metadata": {
        "id": "Y1G3rmTwpy_1",
        "colab_type": "text"
      },
      "source": [
        "Question 2 :\n",
        "Write a program that accepts a comma-separated sequence of words as input and prints the words in a comma-separated sequence after sorting them alphabetically."
      ]
    },
    {
      "cell_type": "code",
      "metadata": {
        "id": "SKiAgWA5pzhk",
        "colab_type": "code",
        "colab": {
          "base_uri": "https://localhost:8080/",
          "height": 50
        },
        "outputId": "c6cc61ee-a5be-4ff9-af19-9d66309ca959"
      },
      "source": [
        "items=[x for x in input().split(', ')]\n",
        "items.sort()\n",
        "print(\"Sorted data are \",', '.join(items))\n"
      ],
      "execution_count": null,
      "outputs": [
        {
          "output_type": "stream",
          "text": [
            "psychology, digitalmarketing, machinelearning, deeplearning, datascience, hemp\n",
            "Sorted data are  datascience, deeplearning, digitalmarketing, hemp, machinelearning, psychology\n"
          ],
          "name": "stdout"
        }
      ]
    },
    {
      "cell_type": "markdown",
      "metadata": {
        "id": "W6OE3cbcp0Hg",
        "colab_type": "text"
      },
      "source": [
        "Question 3:\n",
        "Create your own Jupyter Notebook for Sets. Reference link:\n",
        "https://www.w3schools.com/python/python_sets.asp"
      ]
    },
    {
      "cell_type": "code",
      "metadata": {
        "id": "_22E8lEmp0-O",
        "colab_type": "code",
        "colab": {
          "base_uri": "https://localhost:8080/",
          "height": 447
        },
        "outputId": "e8232f19-eedc-48ea-e2d9-5155f006f5c1"
      },
      "source": [
        "myset = {\"Machine Learning\", \"Deep Learning\", \"Data Science\"}\n",
        "print(myset)\n",
        "\n",
        "for x in myset:\n",
        "  print(x)\n",
        "\n",
        "print(\"Machine Learning\" in myset)\n",
        "\n",
        "myset.add(\"Psychology\")\n",
        "print(myset)\n",
        "\n",
        "myset.update([\"Digital Marketing\",\"Hemp\"])\n",
        "print(myset)\n",
        "\n",
        "print(len(myset))\n",
        "\n",
        "myset.remove(\"Data Science\")\n",
        "print(myset)\n",
        "\n",
        "myset.discard(\"Psychology\")\n",
        "print(myset)\n",
        "\n",
        "x = myset.pop()\n",
        "print(x)\n",
        "print(myset)\n",
        "\n",
        "myset.clear()\n",
        "print(myset)\n",
        "\n",
        "myset = {\"Affiliate\",\"Niche\",\"SEO\"}\n",
        "del myset\n",
        "print(myset)\n",
        "\n",
        "set1 = {\"a\", \"b\" , \"c\"}\n",
        "set2 = {1, 2, 3}\n",
        "set3 = set1.union(set2)\n",
        "print(set3)\n",
        "\n",
        "set1 = {\"a\", \"b\" , \"c\"}\n",
        "set2 = {1, 2, 3}\n",
        "set1.update(set2)\n",
        "print(set1)\n",
        "\n",
        "SPset = set((\"Affiliate\",\"Niche\",\"SEO\"))\n",
        "print(SPset)"
      ],
      "execution_count": 2,
      "outputs": [
        {
          "output_type": "stream",
          "text": [
            "{'Deep Learning', 'Machine Learning', 'Data Science'}\n",
            "Deep Learning\n",
            "Machine Learning\n",
            "Data Science\n",
            "True\n",
            "{'Deep Learning', 'Psychology', 'Machine Learning', 'Data Science'}\n",
            "{'Psychology', 'Digital Marketing', 'Hemp', 'Deep Learning', 'Machine Learning', 'Data Science'}\n",
            "6\n",
            "{'Psychology', 'Digital Marketing', 'Hemp', 'Deep Learning', 'Machine Learning'}\n",
            "{'Digital Marketing', 'Hemp', 'Deep Learning', 'Machine Learning'}\n",
            "Digital Marketing\n",
            "{'Hemp', 'Deep Learning', 'Machine Learning'}\n",
            "set()\n"
          ],
          "name": "stdout"
        },
        {
          "output_type": "error",
          "ename": "NameError",
          "evalue": "ignored",
          "traceback": [
            "\u001b[0;31m---------------------------------------------------------------------------\u001b[0m",
            "\u001b[0;31mNameError\u001b[0m                                 Traceback (most recent call last)",
            "\u001b[0;32m<ipython-input-2-f9bfd6d71de3>\u001b[0m in \u001b[0;36m<module>\u001b[0;34m()\u001b[0m\n\u001b[1;32m     30\u001b[0m \u001b[0mmyset\u001b[0m \u001b[0;34m=\u001b[0m \u001b[0;34m{\u001b[0m\u001b[0;34m\"Affiliate\"\u001b[0m\u001b[0;34m,\u001b[0m\u001b[0;34m\"Niche\"\u001b[0m\u001b[0;34m,\u001b[0m\u001b[0;34m\"SEO\"\u001b[0m\u001b[0;34m}\u001b[0m\u001b[0;34m\u001b[0m\u001b[0;34m\u001b[0m\u001b[0m\n\u001b[1;32m     31\u001b[0m \u001b[0;32mdel\u001b[0m \u001b[0mmyset\u001b[0m\u001b[0;34m\u001b[0m\u001b[0;34m\u001b[0m\u001b[0m\n\u001b[0;32m---> 32\u001b[0;31m \u001b[0mprint\u001b[0m\u001b[0;34m(\u001b[0m\u001b[0mmyset\u001b[0m\u001b[0;34m)\u001b[0m\u001b[0;34m\u001b[0m\u001b[0;34m\u001b[0m\u001b[0m\n\u001b[0m\u001b[1;32m     33\u001b[0m \u001b[0;34m\u001b[0m\u001b[0m\n\u001b[1;32m     34\u001b[0m \u001b[0mset1\u001b[0m \u001b[0;34m=\u001b[0m \u001b[0;34m{\u001b[0m\u001b[0;34m\"a\"\u001b[0m\u001b[0;34m,\u001b[0m \u001b[0;34m\"b\"\u001b[0m \u001b[0;34m,\u001b[0m \u001b[0;34m\"c\"\u001b[0m\u001b[0;34m}\u001b[0m\u001b[0;34m\u001b[0m\u001b[0;34m\u001b[0m\u001b[0m\n",
            "\u001b[0;31mNameError\u001b[0m: name 'myset' is not defined"
          ]
        }
      ]
    },
    {
      "cell_type": "markdown",
      "metadata": {
        "id": "nXj0I5OnqSYX",
        "colab_type": "text"
      },
      "source": [
        "Question 4:\n",
        "Given a list of n-1 numbers ranging from 1 to n, your task is to find the missing number. There are no duplicates."
      ]
    },
    {
      "cell_type": "code",
      "metadata": {
        "id": "jEWB3OPMqnuE",
        "colab_type": "code",
        "colab": {
          "base_uri": "https://localhost:8080/",
          "height": 34
        },
        "outputId": "2d94abd2-0a5b-4fb6-b013-31c0d02e9523"
      },
      "source": [
        "a = [79, 34, 6, 25, 91, 98, 42, 97, 63, 68, 18, 44, 17, 77, 71, 43, 16, 26, 13, 30, 52, 59, 96, 72, 49, 31, 35, 54, 80, 67, 62, 60, 5, 40, 65, 86, 47, 81, 100, 92, 89, 28, 50, 93, 46, 27, 11, 83, 58, 87, 8, 55, 73, 75, 10, 57, 1, 36, 95, 24, 19, 74, 85, 90, 2, 3, 41, 56, 48, 33, 45, 61, 51, 12, 21, 88, 64, 22, 76, 94, 14, 78, 20, 53, 7, 38, 23, 82, 29, 9, 84, 32, 69, 99, 15, 4, 39, 70, 37]\n",
        "def getMissingNo(a, n):\n",
        "    sum_of_n_elements = n*(n+1)//2\n",
        "    return sum_of_n_elements-sum(a)\n",
        "\n",
        "n = len(a)+1\n",
        "miss = getMissingNo(a, n) \n",
        "print(miss)"
      ],
      "execution_count": null,
      "outputs": [
        {
          "output_type": "stream",
          "text": [
            "66\n"
          ],
          "name": "stdout"
        }
      ]
    },
    {
      "cell_type": "markdown",
      "metadata": {
        "id": "nZa8C2CXqtfc",
        "colab_type": "text"
      },
      "source": [
        "Question 5:\n",
        "With a given list L, write a program to print this list L after removing all duplicate values with original order reserved."
      ]
    },
    {
      "cell_type": "code",
      "metadata": {
        "id": "Z5XCmio1q1Rr",
        "colab_type": "code",
        "colab": {
          "base_uri": "https://localhost:8080/",
          "height": 34
        },
        "outputId": "d976a021-46b2-4f04-96b5-f1ebbd392e33"
      },
      "source": [
        "x = [45, 3, 7, 19, 2, 44, 36, 23, 42, 31, 30, 35, 25, 25, 35, 12, 16, 10, 21, 36, 17, 26, 48, 24, 10, 15, 16, 3, 11, 36, 15, 39, 17, 22, 8, 7, 41, 10, 45, 16, 41, 3, 33, 12, 3, 24, 13, 30, 24, 34, 23, 32, 28, 8, 10, 6, 26, 2, 3, 32, 21, 18, 26, 8, 35, 19, 43, 4, 5, 5, 44, 21, 33, 10, 14, 2, 20, 43, 12, 18, 42, 43, 21, 17, 31, 27, 44, 38, 41, 8, 4, 9, 25, 19, 21, 36, 46, 34, 23, 2]\n",
        "from collections import OrderedDict \n",
        "res = list(OrderedDict.fromkeys(x))   \n",
        "print(res)"
      ],
      "execution_count": null,
      "outputs": [
        {
          "output_type": "stream",
          "text": [
            "[45, 3, 7, 19, 2, 44, 36, 23, 42, 31, 30, 35, 25, 12, 16, 10, 21, 17, 26, 48, 24, 15, 11, 39, 22, 8, 41, 33, 13, 34, 32, 28, 6, 18, 43, 4, 5, 14, 20, 27, 38, 9, 46]\n"
          ],
          "name": "stdout"
        }
      ]
    }
  ]
}